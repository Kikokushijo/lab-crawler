{
 "cells": [
  {
   "cell_type": "code",
   "execution_count": null,
   "metadata": {},
   "outputs": [],
   "source": [
    "from collections import defaultdict\n",
    "import os\n",
    "import requests\n",
    "import time\n",
    "\n",
    "from bs4 import BeautifulSoup as BS\n",
    "import simplejson as json\n",
    "from tenacity import retry, stop_after_attempt, wait_random\n",
    "from wos import WosClient\n",
    "import wos.utils"
   ]
  },
  {
   "cell_type": "code",
   "execution_count": null,
   "metadata": {},
   "outputs": [],
   "source": [
    "os.makedirs('data/universe/uid_to_article',exist_ok=True)\n",
    "os.makedirs('data/universe/uid_to_refs',exist_ok=True)\n",
    "os.makedirs('data/universe/uid_to_inv_refs',exist_ok=True)"
   ]
  },
  {
   "cell_type": "code",
   "execution_count": null,
   "metadata": {},
   "outputs": [],
   "source": [
    "import glob\n",
    "\n",
    "article_infos = []\n",
    "article_ids = glob.glob('data/author_to_articles/*.json')\n",
    "\n",
    "author_to_articles = []\n",
    "for id_n, article_id in enumerate(article_ids, 1):\n",
    "    if id_n % 1000 == 0:\n",
    "        print(f'Reading Article ID = {id_n} to Construct Article List')\n",
    "\n",
    "    with open(article_id, 'r') as f:\n",
    "        author_info = json.load(f)\n",
    "        author_to_articles.append(author_info)"
   ]
  },
  {
   "cell_type": "code",
   "execution_count": null,
   "metadata": {},
   "outputs": [],
   "source": [
    "all_uids = set()\n",
    "for d in author_to_articles:\n",
    "    all_uids.update(d['uids'])\n",
    "all_uids = sorted(all_uids)\n",
    "print(f'There Are {len(all_uids)} Articles.')"
   ]
  },
  {
   "cell_type": "code",
   "execution_count": null,
   "metadata": {},
   "outputs": [],
   "source": [
    "@retry(stop=stop_after_attempt(3), \n",
    "       wait=wait_random(min=1, max=2))\n",
    "def get_bsObj(url):\n",
    "    try:\n",
    "        req = session.get(url, headers=headers)\n",
    "    except HTTPError:\n",
    "        return None\n",
    "\n",
    "    try:\n",
    "        bsObj = BS(req.text, \"html.parser\")\n",
    "    except AttributeError:\n",
    "        return None\n",
    "    return bsObj"
   ]
  },
  {
   "cell_type": "code",
   "execution_count": null,
   "metadata": {},
   "outputs": [],
   "source": [
    "@retry(stop=stop_after_attempt(3), \n",
    "       wait=wait_random(min=1, max=2))\n",
    "def get_sum_with_uid(article_uid, client):\n",
    "    article_bs = BS(client.retrieveById(article_uid).records, 'html.parser')\n",
    "    summary = article_bs.find('summary')\n",
    "    return extract_metadata_from_summary(summary)"
   ]
  },
  {
   "cell_type": "code",
   "execution_count": null,
   "metadata": {},
   "outputs": [],
   "source": [
    "@retry(stop=stop_after_attempt(3), \n",
    "       wait=wait_random(min=1, max=2))\n",
    "def get_refs_with_uid(article_uid, client):\n",
    "    \n",
    "    refs = client.citedReferences(article_uid)\n",
    "    refQueryId, refRecordsFound = refs.queryId, refs.recordsFound\n",
    "\n",
    "    ref_meta_list = []\n",
    "    for j in range(1, refRecordsFound+1, 100):\n",
    "        if j != 1:\n",
    "            time.sleep(2)\n",
    "        ref_r = wc.citedReferencesRetrieve(refQueryId, count=min(100, refRecordsFound+1-j), offset=j)\n",
    "        ref_meta_list.extend([dict(ref) for ref in ref_r])\n",
    "    return ref_meta_list"
   ]
  },
  {
   "cell_type": "code",
   "execution_count": null,
   "metadata": {},
   "outputs": [],
   "source": [
    "@retry(stop=stop_after_attempt(3), \n",
    "       wait=wait_random(min=1, max=2))\n",
    "def get_inv_refs_with_uid(article_uid, client):\n",
    "    cits = wc.citingArticles(article_uid)\n",
    "    citRecordsFound = cits.recordsFound\n",
    "    \n",
    "    inv_ref_meta_list = []\n",
    "    for j in range(1, citRecordsFound+1, 100):\n",
    "        if j != 1:\n",
    "            time.sleep(2)\n",
    "        inv_refs = wc.citingArticles(article_uid, count=min(100, citRecordsFound+1-j), offset=j)\n",
    "        inv_refs = BS(inv_refs.records, 'html.parser')\n",
    "        inv_ref_summaries = inv_refs.findAll('summary')\n",
    "        inv_ref_meta_list.extend([extract_metadata_from_summary(inv_ref_summary) for inv_ref_summary in inv_ref_summaries])\n",
    "    return inv_ref_meta_list"
   ]
  },
  {
   "cell_type": "code",
   "execution_count": null,
   "metadata": {},
   "outputs": [],
   "source": [
    "def extract_metadata_from_summary(summary):\n",
    "#     print(summary.find('title', type='item').text)\n",
    "    return {\n",
    "        'title': summary.find('title', type='item').text,\n",
    "        'author_name': [author.text for author in summary.findAll('wos_standard')],\n",
    "        'author_id': [author.get('daisng_id') for author in summary.findAll('name', role='author')],\n",
    "        'pubyear': summary.find('pub_info')['pubyear']\n",
    "    }"
   ]
  },
  {
   "cell_type": "code",
   "execution_count": null,
   "metadata": {},
   "outputs": [],
   "source": [
    "# wc = WosClient()\n",
    "# wc.connect()\n",
    "# for wos_code in wos_codes:\n",
    "#     summary  = get_sum_with_uid(wos_code, wc)\n",
    "#     refs     = get_refs_with_uid(wos_code, wc)\n",
    "#     inv_refs = get_inv_refs_with_uid(wos_code, wc)\n",
    "# wc.close()"
   ]
  }
 ],
 "metadata": {
  "kernelspec": {
   "display_name": "Python 3",
   "language": "python",
   "name": "python3"
  },
  "language_info": {
   "codemirror_mode": {
    "name": "ipython",
    "version": 3
   },
   "file_extension": ".py",
   "mimetype": "text/x-python",
   "name": "python",
   "nbconvert_exporter": "python",
   "pygments_lexer": "ipython3",
   "version": "3.8.1"
  }
 },
 "nbformat": 4,
 "nbformat_minor": 4
}
