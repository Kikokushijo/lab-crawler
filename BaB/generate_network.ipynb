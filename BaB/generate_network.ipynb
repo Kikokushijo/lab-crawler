{
 "cells": [
  {
   "cell_type": "code",
   "execution_count": null,
   "metadata": {},
   "outputs": [],
   "source": [
    "import csv\n",
    "import re\n",
    "import os\n",
    "import simplejson as json\n",
    "import urllib.request\n",
    "from tenacity import retry, stop_after_attempt\n",
    "from collections import defaultdict"
   ]
  },
  {
   "cell_type": "code",
   "execution_count": null,
   "metadata": {},
   "outputs": [],
   "source": [
    "def read_year_json(year):\n",
    "    with open('articles/{}_articles.json'.format(year), 'rb') as f:\n",
    "        article_of_year = json.load(f)\n",
    "    return article_of_year"
   ]
  },
  {
   "cell_type": "code",
   "execution_count": null,
   "metadata": {},
   "outputs": [],
   "source": [
    "@retry(stop=stop_after_attempt(3))\n",
    "def download_citation_format(article_meta):\n",
    "    article_url = article_meta['url']\n",
    "    product_id = article_url.split('/')[-1]\n",
    "    response = urllib.request.urlopen(\n",
    "        'https://www.cambridge.org/core/services/aop-easybib/export?exportType=txt'\n",
    "        '&productIds={}&citationStyle=apa'.format(product_id)\n",
    "    )\n",
    "    html = response.read().decode(\"utf-8\")\n",
    "    return html"
   ]
  },
  {
   "cell_type": "code",
   "execution_count": null,
   "metadata": {},
   "outputs": [],
   "source": [
    "def parse_citation(citation):\n",
    "    result = re.match(r'^(.*) \\(\\d*\\)(.*)', citation)\n",
    "    authors = result.group(1)\n",
    "    authors = [author.split('& ')[-1].split('.')[0] + '.' for author in authors.split('., ')]\n",
    "    return authors"
   ]
  },
  {
   "cell_type": "code",
   "execution_count": null,
   "metadata": {},
   "outputs": [],
   "source": [
    "def build_title_to_authors(year):\n",
    "    title_to_authors = defaultdict(list)\n",
    "    for title, meta in read_year_json(year).items():\n",
    "        citation = download_citation_format(meta)\n",
    "        authors = parse_citation(citation)\n",
    "        title_to_authors[title] = authors\n",
    "        \n",
    "        for commentaries in meta['commentaries']:\n",
    "            comment_title = commentaries['title']\n",
    "            comment_citation = download_citation_format(commentaries)\n",
    "            comment_authors = parse_citation(comment_citation)\n",
    "            title_to_authors[comment_title] = comment_authors\n",
    "        \n",
    "    return title_to_authors"
   ]
  },
  {
   "cell_type": "code",
   "execution_count": null,
   "metadata": {},
   "outputs": [],
   "source": [
    "if not os.path.exists('articles/article_to_authors.json'):\n",
    "    title_to_authors = defaultdict(list)\n",
    "    for year in range(2015, 2020):\n",
    "        title_to_authors.update(build_title_to_authors(year))\n",
    "    with open('articles/article_to_authors.json', 'w', encoding='utf-8') as f:\n",
    "        json.dump(title_to_authors, f, ensure_ascii=False, indent=4)\n",
    "else:\n",
    "    with open('articles/article_to_authors.json', 'rb') as f:\n",
    "        title_to_authors = json.load(f)"
   ]
  },
  {
   "cell_type": "code",
   "execution_count": null,
   "metadata": {},
   "outputs": [],
   "source": [
    "title_to_meta = dict()\n",
    "for year in range(2015, 2020):\n",
    "    _title_year = read_year_json(year)\n",
    "    title_to_meta.update(_title_year)"
   ]
  },
  {
   "cell_type": "code",
   "execution_count": null,
   "metadata": {},
   "outputs": [],
   "source": [
    "def get_author_list(meta_references_field):\n",
    "    referenced_authors = []\n",
    "    for reference in meta_references_field:\n",
    "        for author in reference['authors']:\n",
    "            author_repr = '{}, {}'.format(author['surname'], author['given_names'])\n",
    "            referenced_authors.append(author_repr)\n",
    "    return referenced_authors"
   ]
  },
  {
   "cell_type": "code",
   "execution_count": null,
   "metadata": {},
   "outputs": [],
   "source": [
    "def build_reference_network(title_to_meta, title_to_authors):\n",
    "\n",
    "    edge_count = defaultdict(lambda: 0)\n",
    "    for title, meta in title_to_meta.items():\n",
    "        \n",
    "        # update target article and its references\n",
    "        referenced_authors = get_author_list(meta['references'])\n",
    "        authors = title_to_authors[title]\n",
    "        \n",
    "        for source in authors:\n",
    "            for target in referenced_authors:\n",
    "                edge_count[(source, target)] += 1\n",
    "        \n",
    "        # update commentaries and its references\n",
    "        for commentary_meta in meta['commentaries']:\n",
    "            commentary_title = commentary_meta['title']\n",
    "            commentary_authors = title_to_authors[commentary_title]\n",
    "            commentary_referenced_authors = get_author_list(commentary_meta['references'])\n",
    "            \n",
    "            for source in commentary_authors:\n",
    "                for target in commentary_referenced_authors:\n",
    "                    edge_count[(source, target)] += 1\n",
    "        \n",
    "    return edge_count"
   ]
  },
  {
   "cell_type": "code",
   "execution_count": null,
   "metadata": {},
   "outputs": [],
   "source": [
    "def write_network(network, network_filename):\n",
    "    with open(network_filename, 'w', newline='', encoding='utf_8_sig') as csvfile:\n",
    "        writer = csv.writer(csvfile)\n",
    "        writer.writerow(['Source', 'Target', 'Type', 'Appearance'])\n",
    "        for (source, target), appearance in network.items():\n",
    "            writer.writerow([source, target, 'Directed', appearance])"
   ]
  },
  {
   "cell_type": "code",
   "execution_count": null,
   "metadata": {},
   "outputs": [],
   "source": [
    "os.makedirs('networks', exist_ok=True)\n",
    "reference_network = build_reference_network(title_to_meta, title_to_authors)\n",
    "write_network(reference_network, 'networks/reference_network.csv')"
   ]
  },
  {
   "cell_type": "code",
   "execution_count": null,
   "metadata": {},
   "outputs": [],
   "source": [
    "def build_commentary_network(title_to_meta, title_to_authors):\n",
    "\n",
    "    edge_count = defaultdict(lambda: 0)\n",
    "    for title, meta in title_to_meta.items():\n",
    "        target_article_authors = title_to_authors[title]\n",
    "\n",
    "        commentary_authors = []\n",
    "        for commentary in meta['commentaries']:\n",
    "            commentary_title = commentary['title']\n",
    "            single_commentary_authors = title_to_authors[commentary_title]\n",
    "            commentary_authors.extend(single_commentary_authors)\n",
    "\n",
    "        for source in commentary_authors:\n",
    "            for target in target_article_authors:\n",
    "                edge_count[(source, target)] += 1\n",
    "\n",
    "    return edge_count"
   ]
  },
  {
   "cell_type": "code",
   "execution_count": null,
   "metadata": {},
   "outputs": [],
   "source": [
    "commentary_network = build_commentary_network(title_to_meta, title_to_authors)\n",
    "write_network(commentary_network, 'networks/commentary_network.csv')"
   ]
  }
 ],
 "metadata": {
  "kernelspec": {
   "display_name": "Python 3",
   "language": "python",
   "name": "python3"
  },
  "language_info": {
   "codemirror_mode": {
    "name": "ipython",
    "version": 3
   },
   "file_extension": ".py",
   "mimetype": "text/x-python",
   "name": "python",
   "nbconvert_exporter": "python",
   "pygments_lexer": "ipython3",
   "version": "3.7.3"
  }
 },
 "nbformat": 4,
 "nbformat_minor": 2
}
