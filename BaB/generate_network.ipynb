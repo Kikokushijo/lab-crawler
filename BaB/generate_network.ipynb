{
 "cells": [
  {
   "cell_type": "code",
   "execution_count": 1,
   "metadata": {},
   "outputs": [],
   "source": [
    "import csv\n",
    "import re\n",
    "import os\n",
    "import simplejson as json\n",
    "import urllib.request\n",
    "from tenacity import retry, stop_after_attempt\n",
    "from collections import defaultdict"
   ]
  },
  {
   "cell_type": "code",
   "execution_count": 2,
   "metadata": {},
   "outputs": [],
   "source": [
    "def read_year_json(year):\n",
    "    with open('articles/{}_articles.json'.format(year), 'rb') as f:\n",
    "        article_of_year = json.load(f)\n",
    "    return article_of_year"
   ]
  },
  {
   "cell_type": "code",
   "execution_count": 3,
   "metadata": {},
   "outputs": [],
   "source": [
    "@retry(stop=stop_after_attempt(3))\n",
    "def download_citation_format(article_meta):\n",
    "    article_url = article_meta['url']\n",
    "    product_id = article_url.split('/')[-1]\n",
    "    response = urllib.request.urlopen(\n",
    "        'https://www.cambridge.org/core/services/aop-easybib/export?exportType=txt'\n",
    "        '&productIds={}&citationStyle=apa'.format(product_id)\n",
    "    )\n",
    "    html = response.read().decode(\"utf-8\")\n",
    "    return html"
   ]
  },
  {
   "cell_type": "code",
   "execution_count": 4,
   "metadata": {},
   "outputs": [],
   "source": [
    "def parse_citation(citation):\n",
    "    result = re.match(r'^(.*) \\(\\d*\\)(.*)', citation)\n",
    "    authors = result.group(1)\n",
    "    authors = [author.split('& ')[-1].split('.')[0] + '.' for author in authors.split('., ')]\n",
    "    return authors"
   ]
  },
  {
   "cell_type": "code",
   "execution_count": 5,
   "metadata": {},
   "outputs": [],
   "source": [
    "def build_title_to_authors(year):\n",
    "    title_to_authors = defaultdict(list)\n",
    "    for title, meta in read_year_json(year).items():\n",
    "        citation = download_citation_format(meta)\n",
    "        authors = parse_citation(citation)\n",
    "        title_to_authors[title] = authors\n",
    "        \n",
    "        for commentaries in meta['commentaries']:\n",
    "            comment_title = commentaries['title']\n",
    "            comment_citation = download_citation_format(commentaries)\n",
    "            comment_authors = parse_citation(comment_citation)\n",
    "            title_to_authors[comment_title] = comment_authors\n",
    "        \n",
    "    return title_to_authors"
   ]
  },
  {
   "cell_type": "code",
   "execution_count": 6,
   "metadata": {},
   "outputs": [
    {
     "name": "stdout",
     "output_type": "stream",
     "text": [
      "Now is downloading the data in 1978\n",
      "Now is downloading the data in 1979\n",
      "Now is downloading the data in 1980\n",
      "Now is downloading the data in 1981\n",
      "Now is downloading the data in 1982\n",
      "Now is downloading the data in 1983\n",
      "Now is downloading the data in 1984\n",
      "Now is downloading the data in 1985\n",
      "Now is downloading the data in 1986\n",
      "Now is downloading the data in 1987\n",
      "Now is downloading the data in 1988\n",
      "Now is downloading the data in 1989\n",
      "Now is downloading the data in 1990\n",
      "Now is downloading the data in 1991\n",
      "Now is downloading the data in 1992\n",
      "Now is downloading the data in 1993\n",
      "Now is downloading the data in 1994\n",
      "Now is downloading the data in 1995\n",
      "Now is downloading the data in 1996\n",
      "Now is downloading the data in 1997\n",
      "Now is downloading the data in 1998\n",
      "Now is downloading the data in 1999\n",
      "Now is downloading the data in 2000\n",
      "Now is downloading the data in 2001\n",
      "Now is downloading the data in 2002\n",
      "Now is downloading the data in 2003\n",
      "Now is downloading the data in 2004\n",
      "Now is downloading the data in 2005\n",
      "Now is downloading the data in 2006\n",
      "Now is downloading the data in 2007\n",
      "Now is downloading the data in 2008\n",
      "Now is downloading the data in 2009\n",
      "Now is downloading the data in 2010\n",
      "Now is downloading the data in 2011\n",
      "Now is downloading the data in 2012\n",
      "Now is downloading the data in 2013\n",
      "Now is downloading the data in 2014\n",
      "Now is downloading the data in 2015\n",
      "Now is downloading the data in 2016\n",
      "Now is downloading the data in 2017\n",
      "Now is downloading the data in 2018\n",
      "Now is downloading the data in 2019\n"
     ]
    }
   ],
   "source": [
    "start_year = 1978\n",
    "end_year = 2019\n",
    "\n",
    "if not os.path.exists('articles/article_to_authors.json'):\n",
    "    title_to_authors = defaultdict(list)\n",
    "    for year in range(start_year, end_year+1):\n",
    "        print('Now is downloading the data in %d' % year)\n",
    "        title_to_authors.update(build_title_to_authors(year))\n",
    "    with open('articles/article_to_authors.json', 'w', encoding='utf-8') as f:\n",
    "        json.dump(title_to_authors, f, ensure_ascii=False, indent=4)\n",
    "else:\n",
    "    with open('articles/article_to_authors.json', 'rb') as f:\n",
    "        title_to_authors = json.load(f)"
   ]
  },
  {
   "cell_type": "code",
   "execution_count": 7,
   "metadata": {},
   "outputs": [],
   "source": [
    "def get_author_list(meta_references_field):\n",
    "    referenced_authors = []\n",
    "    for reference in meta_references_field:\n",
    "        for author in reference['authors']:\n",
    "            author_repr = '{}, {}'.format(author['surname'], author['given_names'])\n",
    "            referenced_authors.append(author_repr)\n",
    "    return referenced_authors"
   ]
  },
  {
   "cell_type": "code",
   "execution_count": 8,
   "metadata": {},
   "outputs": [],
   "source": [
    "def build_reference_network(title_to_meta, title_to_authors, skip_commentary=False):\n",
    "\n",
    "    edge_count = defaultdict(lambda: 0)\n",
    "    for title, meta in title_to_meta.items():\n",
    "        \n",
    "        # update target article and its references\n",
    "        referenced_authors = get_author_list(meta['references'])\n",
    "        authors = title_to_authors[title]\n",
    "        \n",
    "        for source in authors:\n",
    "            for target in referenced_authors:\n",
    "                edge_count[(source, target)] += 1\n",
    "        \n",
    "        if not skip_commentary:\n",
    "            # update commentaries and its references\n",
    "            for commentary_meta in meta['commentaries']:\n",
    "                commentary_title = commentary_meta['title']\n",
    "                commentary_authors = title_to_authors[commentary_title]\n",
    "                commentary_referenced_authors = get_author_list(commentary_meta['references'])\n",
    "\n",
    "                for source in commentary_authors:\n",
    "                    for target in commentary_referenced_authors:\n",
    "                        edge_count[(source, target)] += 1\n",
    "        \n",
    "    return edge_count"
   ]
  },
  {
   "cell_type": "code",
   "execution_count": 9,
   "metadata": {},
   "outputs": [],
   "source": [
    "def build_commentary_network(title_to_meta, title_to_authors):\n",
    "\n",
    "    edge_count = defaultdict(lambda: 0)\n",
    "    for title, meta in title_to_meta.items():\n",
    "        target_article_authors = title_to_authors[title]\n",
    "\n",
    "        commentary_authors = []\n",
    "        for commentary in meta['commentaries']:\n",
    "            commentary_title = commentary['title']\n",
    "            single_commentary_authors = title_to_authors[commentary_title]\n",
    "            commentary_authors.extend(single_commentary_authors)\n",
    "\n",
    "        for source in commentary_authors:\n",
    "            for target in target_article_authors:\n",
    "                edge_count[(source, target)] += 1\n",
    "\n",
    "    return edge_count"
   ]
  },
  {
   "cell_type": "code",
   "execution_count": 10,
   "metadata": {},
   "outputs": [],
   "source": [
    "def write_network(network, network_filename, open_mode='w', network_category='Cite'):\n",
    "    with open(network_filename, open_mode, newline='', encoding='utf_8_sig') as csvfile:\n",
    "        writer = csv.writer(csvfile)\n",
    "        if open_mode == 'w':\n",
    "            writer.writerow(['Source', 'Target', 'Type', 'Attribute', 'Timestamp'])\n",
    "        for (source, target), appearance in network.items():\n",
    "            writer.writerow([source, target, 'Directed', network_category] + \\\n",
    "                            [','.join(['%d(%d)' % (year, times) for year, times in sorted(appearance.items(), key=lambda x: x[0])])])"
   ]
  },
  {
   "cell_type": "code",
   "execution_count": 11,
   "metadata": {},
   "outputs": [],
   "source": [
    "title_to_meta = dict()\n",
    "for year in range(start_year, end_year+1):\n",
    "    _title_year = read_year_json(year)\n",
    "    title_to_meta.update(_title_year)"
   ]
  },
  {
   "cell_type": "code",
   "execution_count": 12,
   "metadata": {},
   "outputs": [],
   "source": [
    "# separate every year\n",
    "os.makedirs('networks', exist_ok=True)\n",
    "ref_net_sep_by_year = defaultdict(lambda: defaultdict(int))\n",
    "for year in range(start_year, end_year+1):\n",
    "    title_to_meta_of_year = read_year_json(year)\n",
    "    reference_network_for_year = build_reference_network(title_to_meta_of_year, title_to_authors, skip_commentary=True)\n",
    "    for edge, appearance in reference_network_for_year.items():\n",
    "        ref_net_sep_by_year[edge][year] = appearance\n",
    "write_network(ref_net_sep_by_year, 'networks/reference_and_commentary_network_by_year.csv')"
   ]
  },
  {
   "cell_type": "code",
   "execution_count": 13,
   "metadata": {},
   "outputs": [],
   "source": [
    "com_net_sep_by_year = defaultdict(lambda: defaultdict(int))\n",
    "for year in range(start_year, end_year+1):\n",
    "    title_to_meta_of_year = read_year_json(year)\n",
    "    commentary_network_for_year = build_commentary_network(title_to_meta_of_year, title_to_authors)\n",
    "    for edge, appearance in commentary_network_for_year.items():\n",
    "        com_net_sep_by_year[edge][year] = appearance\n",
    "\n",
    "write_network(com_net_sep_by_year, 'networks/reference_and_commentary_network_by_year.csv', 'a', 'Commentary')"
   ]
  },
  {
   "cell_type": "code",
   "execution_count": null,
   "metadata": {},
   "outputs": [],
   "source": []
  }
 ],
 "metadata": {
  "kernelspec": {
   "display_name": "Python 3",
   "language": "python",
   "name": "python3"
  },
  "language_info": {
   "codemirror_mode": {
    "name": "ipython",
    "version": 3
   },
   "file_extension": ".py",
   "mimetype": "text/x-python",
   "name": "python",
   "nbconvert_exporter": "python",
   "pygments_lexer": "ipython3",
   "version": "3.6.7"
  }
 },
 "nbformat": 4,
 "nbformat_minor": 2
}
