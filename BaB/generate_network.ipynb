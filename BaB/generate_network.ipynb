{
 "cells": [
  {
   "cell_type": "code",
   "execution_count": 1,
   "metadata": {},
   "outputs": [],
   "source": [
    "import csv\n",
    "import re\n",
    "import os\n",
    "import simplejson as json\n",
    "import urllib.request\n",
    "from tenacity import retry, stop_after_attempt\n",
    "from collections import defaultdict\n",
    "from itertools import combinations"
   ]
  },
  {
   "cell_type": "code",
   "execution_count": 2,
   "metadata": {},
   "outputs": [],
   "source": [
    "def read_year_json(year):\n",
    "    with open('articles/{}_articles.json'.format(year), 'rb') as f:\n",
    "        article_of_year = json.load(f)\n",
    "    return article_of_year"
   ]
  },
  {
   "cell_type": "code",
   "execution_count": 3,
   "metadata": {},
   "outputs": [],
   "source": [
    "@retry(stop=stop_after_attempt(3))\n",
    "def download_citation_format(article_meta):\n",
    "    article_url = article_meta['url']\n",
    "    product_id = article_url.split('/')[-1]\n",
    "    response = urllib.request.urlopen(\n",
    "        'https://www.cambridge.org/core/services/aop-easybib/export?exportType=txt'\n",
    "        '&productIds={}&citationStyle=apa'.format(product_id)\n",
    "    )\n",
    "    html = response.read().decode(\"utf-8\")\n",
    "    return html, product_id"
   ]
  },
  {
   "cell_type": "code",
   "execution_count": 4,
   "metadata": {},
   "outputs": [],
   "source": [
    "def parse_citation(citation):\n",
    "    result = re.match(r'^(.*) \\(\\d*\\)(.*)', citation)\n",
    "    authors = result.group(1)\n",
    "    authors = [author.split('& ')[-1].split('.')[0] + '.' for author in authors.split('., ')]\n",
    "    return authors"
   ]
  },
  {
   "cell_type": "code",
   "execution_count": 5,
   "metadata": {},
   "outputs": [],
   "source": [
    "os.makedirs('author', exist_ok=True)\n",
    "\n",
    "def build_title_to_authors(year):\n",
    "    title_to_authors = defaultdict(list)\n",
    "    for title, meta in read_year_json(year).items():\n",
    "        citation, product_id = download_citation_format(meta)\n",
    "        \n",
    "        with open(os.path.join('author', product_id + '.txt')) as f:\n",
    "            f.write(citation)\n",
    "        \n",
    "        authors = parse_citation(citation)\n",
    "        title_to_authors[title] = authors\n",
    "        \n",
    "        for commentaries in meta['commentaries']:\n",
    "            comment_title = commentaries['title']\n",
    "            comment_citation = download_citation_format(commentaries)\n",
    "            comment_authors = parse_citation(comment_citation)\n",
    "            title_to_authors[comment_title] = comment_authors\n",
    "        \n",
    "    return title_to_authors"
   ]
  },
  {
   "cell_type": "code",
   "execution_count": 6,
   "metadata": {},
   "outputs": [],
   "source": [
    "start_year = 1978\n",
    "end_year = 2019\n",
    "\n",
    "if not os.path.exists('articles/article_to_authors.json'):\n",
    "    title_to_authors = defaultdict(list)\n",
    "    for year in range(start_year, end_year+1):\n",
    "        print('Now is downloading the data in %d' % year)\n",
    "        title_to_authors.update(build_title_to_authors(year))\n",
    "    with open('articles/article_to_authors.json', 'w', encoding='utf-8') as f:\n",
    "        json.dump(title_to_authors, f, ensure_ascii=False, indent=4)\n",
    "else:\n",
    "    with open('articles/article_to_authors.json', 'rb') as f:\n",
    "        title_to_authors = json.load(f)"
   ]
  },
  {
   "cell_type": "code",
   "execution_count": 7,
   "metadata": {},
   "outputs": [],
   "source": [
    "def get_author_list(meta_references_field):\n",
    "    referenced_authors = []\n",
    "    for reference in meta_references_field:\n",
    "        for author in reference['authors']:\n",
    "            author_repr = '{}, {}'.format(author['surname'], author['given_names'])\n",
    "            referenced_authors.append(author_repr)\n",
    "    return referenced_authors"
   ]
  },
  {
   "cell_type": "code",
   "execution_count": 8,
   "metadata": {},
   "outputs": [],
   "source": [
    "def build_reference_network(title_to_meta, title_to_authors, skip_commentary=False):\n",
    "\n",
    "    main_edge_count = defaultdict(lambda: 0)\n",
    "    comment_edge_count = defaultdict(lambda: 0)\n",
    "    for title, meta in title_to_meta.items():\n",
    "        \n",
    "        # update target article and its references\n",
    "        referenced_authors = get_author_list(meta['references'])\n",
    "        authors = title_to_authors[title]\n",
    "        \n",
    "        for source in authors:\n",
    "            for target in referenced_authors:\n",
    "                main_edge_count[(source, target)] += 1\n",
    "        \n",
    "        # update commentaries and its references\n",
    "        for commentary_meta in meta['commentaries']:\n",
    "            commentary_title = commentary_meta['title']\n",
    "            commentary_authors = title_to_authors[commentary_title]\n",
    "            commentary_referenced_authors = get_author_list(commentary_meta['references'])\n",
    "\n",
    "            for source in commentary_authors:\n",
    "                for target in commentary_referenced_authors:\n",
    "                    comment_edge_count[(source, target)] += 1\n",
    "        \n",
    "    return main_edge_count, comment_edge_count"
   ]
  },
  {
   "cell_type": "code",
   "execution_count": 9,
   "metadata": {},
   "outputs": [],
   "source": [
    "def build_commentary_network(title_to_meta, title_to_authors):\n",
    "\n",
    "    edge_count = defaultdict(lambda: 0)\n",
    "    for title, meta in title_to_meta.items():\n",
    "        target_article_authors = title_to_authors[title]\n",
    "\n",
    "        commentary_authors = []\n",
    "        for commentary in meta['commentaries']:\n",
    "            commentary_title = commentary['title']\n",
    "            single_commentary_authors = title_to_authors[commentary_title]\n",
    "            commentary_authors.extend(single_commentary_authors)\n",
    "\n",
    "        for source in commentary_authors:\n",
    "            for target in target_article_authors:\n",
    "                edge_count[(source, target)] += 1\n",
    "\n",
    "    return edge_count"
   ]
  },
  {
   "cell_type": "code",
   "execution_count": 10,
   "metadata": {},
   "outputs": [],
   "source": [
    "def build_coauthor_network(title_to_meta, title_to_authors):\n",
    "    \n",
    "    main_edge_count = defaultdict(lambda: 0)\n",
    "    comm_edge_count = defaultdict(lambda: 0)\n",
    "    main_cite_edge_count = defaultdict(lambda: 0)\n",
    "    comm_cite_edge_count = defaultdict(lambda: 0)\n",
    "    \n",
    "    for title, meta in title_to_meta.items():\n",
    "        \n",
    "        authors = title_to_authors[title]\n",
    "        referenced_authors = get_author_list(meta['references'])\n",
    "        \n",
    "        # update coauthor in target articles\n",
    "        for source, target in combinations(authors, 2):\n",
    "            main_edge_count[(source, target)] += 1\n",
    "        \n",
    "        # update coauthor in target articles' citations\n",
    "        for source, target in combinations(referenced_authors, 2):\n",
    "            main_cite_edge_count[(source, target)] += 1\n",
    "\n",
    "        for commentary_meta in meta['commentaries']:\n",
    "            commentary_title = commentary_meta['title']\n",
    "            commentary_authors = title_to_authors[commentary_title]\n",
    "            commentary_referenced_authors = get_author_list(commentary_meta['references'])\n",
    "            \n",
    "            # update coauthor in commentaries\n",
    "            for source, target in combinations(commentary_authors, 2):\n",
    "                comm_edge_count[(source, target)] += 1\n",
    "            \n",
    "            # update coauthor in commentaries' citations\n",
    "            for source, target in combinations(commentary_referenced_authors, 2):\n",
    "                comm_cite_edge_count[(source, target)] += 1\n",
    "            \n",
    "    return main_edge_count, comm_edge_count, main_cite_edge_count, comm_cite_edge_count"
   ]
  },
  {
   "cell_type": "code",
   "execution_count": 11,
   "metadata": {},
   "outputs": [],
   "source": [
    "def write_network(network, network_filename, open_mode='w', edge_type='Directed', network_category='Cite'):\n",
    "    with open(network_filename, open_mode, newline='', encoding='utf_8_sig') as csvfile:\n",
    "        writer = csv.writer(csvfile)\n",
    "        if open_mode == 'w':\n",
    "            writer.writerow(['Source', 'Target', 'Type', 'Attribute', 'Timestamp'])\n",
    "        for (source, target), appearance in network.items():\n",
    "            writer.writerow([source, target, edge_type, network_category] + \\\n",
    "                            [','.join(['%d(%d)' % (year, times) for year, times in sorted(appearance.items(), key=lambda x: x[0])])])"
   ]
  },
  {
   "cell_type": "code",
   "execution_count": 12,
   "metadata": {},
   "outputs": [],
   "source": [
    "title_to_meta = dict()\n",
    "for year in range(start_year, end_year+1):\n",
    "    _title_year = read_year_json(year)\n",
    "    title_to_meta.update(_title_year)"
   ]
  },
  {
   "cell_type": "code",
   "execution_count": 13,
   "metadata": {},
   "outputs": [],
   "source": [
    "# separate every year\n",
    "os.makedirs('networks', exist_ok=True)\n",
    "\n",
    "main_ref_net = defaultdict(lambda: defaultdict(int))\n",
    "comment_ref_net = defaultdict(lambda: defaultdict(int))\n",
    "for year in range(start_year, end_year+1):\n",
    "    title_to_meta_of_year = read_year_json(year)\n",
    "    main_ref_for_year, comment_ref_for_year = build_reference_network(title_to_meta_of_year, title_to_authors)\n",
    "    \n",
    "    for edge, appearance in main_ref_for_year.items():\n",
    "        main_ref_net[edge][year] = appearance\n",
    "    \n",
    "    for edge, appearance in comment_ref_for_year.items():\n",
    "        comment_ref_net[edge][year] = appearance\n",
    "\n",
    "write_network(main_ref_net, 'networks/main_article_references.csv', network_category='Main Article Citation')\n",
    "write_network(comment_ref_net, 'networks/comment_references.csv', network_category='Commentary Citation')"
   ]
  },
  {
   "cell_type": "code",
   "execution_count": 14,
   "metadata": {},
   "outputs": [],
   "source": [
    "com_net = defaultdict(lambda: defaultdict(int))\n",
    "for year in range(start_year, end_year+1):\n",
    "    title_to_meta_of_year = read_year_json(year)\n",
    "    commentary_network_for_year = build_commentary_network(title_to_meta_of_year, title_to_authors)\n",
    "    for edge, appearance in commentary_network_for_year.items():\n",
    "        com_net[edge][year] = appearance\n",
    "\n",
    "write_network(com_net, 'networks/commentary.csv', network_category='Commentary')"
   ]
  },
  {
   "cell_type": "code",
   "execution_count": 15,
   "metadata": {},
   "outputs": [],
   "source": [
    "coauthor_main_net = defaultdict(lambda: defaultdict(int))\n",
    "coauthor_comm_net = defaultdict(lambda: defaultdict(int))\n",
    "coauthor_main_cite_net = defaultdict(lambda: defaultdict(int))\n",
    "coauthor_comm_cite_net = defaultdict(lambda: defaultdict(int))\n",
    "\n",
    "for year in range(start_year, end_year+1):\n",
    "    title_to_meta_of_year = read_year_json(year)\n",
    "    main_edge_count, comm_edge_count, main_cite_edge_count, comm_cite_edge_count = \\\n",
    "        build_coauthor_network(title_to_meta_of_year, title_to_authors)\n",
    "    \n",
    "    for edge, appearance in main_edge_count.items():\n",
    "        coauthor_main_net[edge][year] = appearance\n",
    "    for edge, appearance in comm_edge_count.items():\n",
    "        coauthor_comm_net[edge][year] = appearance\n",
    "    for edge, appearance in main_cite_edge_count.items():\n",
    "        coauthor_main_cite_net[edge][year] = appearance\n",
    "    for edge, appearance in comm_cite_edge_count.items():\n",
    "        coauthor_comm_cite_net[edge][year] = appearance\n",
    "\n",
    "write_network(coauthor_main_net, 'networks/main_coauthor.csv', edge_type='Undirected', network_category='Main Coauthor')\n",
    "write_network(coauthor_comm_net, 'networks/comm_coauthor.csv', edge_type='Undirected', network_category='Comm Coauthor')\n",
    "write_network(coauthor_main_cite_net, 'networks/main_cite_coauthor.csv', edge_type='Undirected', network_category='Main Cite Coauthor')\n",
    "write_network(coauthor_comm_cite_net, 'networks/comm_cite_coauthor.csv', edge_type='Undirected', network_category='Comm Cite Coauthor')"
   ]
  }
 ],
 "metadata": {
  "kernelspec": {
   "display_name": "Python 3",
   "language": "python",
   "name": "python3"
  },
  "language_info": {
   "codemirror_mode": {
    "name": "ipython",
    "version": 3
   },
   "file_extension": ".py",
   "mimetype": "text/x-python",
   "name": "python",
   "nbconvert_exporter": "python",
   "pygments_lexer": "ipython3",
   "version": "3.6.7"
  }
 },
 "nbformat": 4,
 "nbformat_minor": 2
}
