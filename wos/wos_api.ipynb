{
 "cells": [
  {
   "cell_type": "code",
   "execution_count": null,
   "metadata": {},
   "outputs": [],
   "source": [
    "from collections import defaultdict\n",
    "import os\n",
    "\n",
    "from bs4 import BeautifulSoup as BS\n",
    "import simplejson as json\n",
    "from wos import WosClient\n",
    "import wos.utils"
   ]
  },
  {
   "cell_type": "code",
   "execution_count": null,
   "metadata": {},
   "outputs": [],
   "source": [
    "os.makedirs('uid_to_article',exist_ok=True)\n",
    "os.makedirs('uid_to_inv_refs',exist_ok=True)\n",
    "os.makedirs('uid_to_refs',exist_ok=True)"
   ]
  },
  {
   "cell_type": "code",
   "execution_count": null,
   "metadata": {},
   "outputs": [],
   "source": [
    "def get_refs_with_uid(article_uid, client):\n",
    "    \n",
    "    refs = client.citedReferences(article_uid)\n",
    "    refQueryId, refRecordsFound = refs.queryId, refs.recordsFound\n",
    "\n",
    "    ref_meta_list = []\n",
    "    for j in range(1, refRecordsFound+1, 100):\n",
    "        ref_r = wc.citedReferencesRetrieve(refQueryId, count=min(100, refRecordsFound+1-j), offset=j)\n",
    "        ref_meta_list.extend([dict(ref) for ref in ref_r])\n",
    "    return ref_meta_list"
   ]
  },
  {
   "cell_type": "code",
   "execution_count": null,
   "metadata": {},
   "outputs": [],
   "source": [
    "def extract_metadata_from_summary(summary):\n",
    "    \n",
    "    return {\n",
    "        'title': summary.find('title', type='item').text,\n",
    "        'author_name': [author.text for author in summary.findAll('wos_standard')],\n",
    "        'author_id': [author['daisng_id'] for author in summary.findAll('name', role='author')],\n",
    "        'pubyear': summary.find('pub_info')['pubyear']\n",
    "    }"
   ]
  },
  {
   "cell_type": "code",
   "execution_count": null,
   "metadata": {},
   "outputs": [],
   "source": [
    "def get_inv_refs_with_uid(article_uid, client):\n",
    "    cits = wc.citingArticles(article_uid)\n",
    "    citRecordsFound = cits.recordsFound\n",
    "    \n",
    "    inv_ref_meta_list = []\n",
    "    for j in range(1, citRecordsFound+1, 100):\n",
    "        inv_refs = wc.citingArticles(article_uid, count=min(100, citRecordsFound+1-j), offset=j)\n",
    "        inv_refs = BS(inv_refs.records, 'html.parser')\n",
    "        inv_ref_summaries = inv_refs.findAll('summary')\n",
    "        inv_ref_meta_list.extend([extract_metadata_from_summary(inv_ref_summary) for inv_ref_summary in inv_ref_summaries])\n",
    "    return inv_ref_meta_list"
   ]
  },
  {
   "cell_type": "code",
   "execution_count": null,
   "metadata": {},
   "outputs": [],
   "source": [
    "with WosClient() as wc:\n",
    "    refs = get_refs_with_uid(article_uid, wc)\n",
    "    inv_refs = get_inv_refs_with_uid(article_uid, wc)"
   ]
  },
  {
   "cell_type": "code",
   "execution_count": null,
   "metadata": {},
   "outputs": [],
   "source": [
    "uid_to_article, uid_to_refs, uid_to_inv_refs = defaultdict(list), defaultdict(list), defaultdict(list)\n",
    "\n",
    "with WosClient() as wc:\n",
    "    \n",
    "    q = wc.search('SO=(behavioral and brain sciences)')\n",
    "    \n",
    "    # will find 15177 records\n",
    "    queryId, recordsFound = q.queryId, q.recordsFound\n",
    "    \n",
    "    # Need to for-loop retrieve\n",
    "    for i in range(1, recordsFound+1, 100):\n",
    "        \n",
    "        print(f'Start to crawl article id: {i}')\n",
    "        \n",
    "        r = wc.retrieve(queryId, count=min(100, recordsFound+1-i), offset=i)\n",
    "        retrieve_bs = BS(r.records, 'html.parser')\n",
    "        \n",
    "        for uid_obj in retrieve_bs.findAll('uid'):\n",
    "        \n",
    "            # retrieve article metadata\n",
    "            article_uid = uid_obj.text\n",
    "            file_article_uid = article_uid[4:]\n",
    "            article_bs = BS(wc.retrieveById(article_uid).records, 'html.parser')\n",
    "            uid_to_article[article_uid] = extract_metadata_from_summary(article_bs.find('summary'))\n",
    "            with open(f'uid_to_article/{file_article_uid}.json', 'w') as f:\n",
    "                json.dump(uid_to_article[article_uid], f, indent=4)\n",
    "\n",
    "            # find references\n",
    "            uid_to_refs[article_uid] = get_refs_with_uid(article_uid, wc)\n",
    "            with open(f'uid_to_refs/{file_article_uid}.json', 'w') as f:\n",
    "                json.dump(uid_to_refs[article_uid], f, indent=4)\n",
    "            \n",
    "            # find others citing\n",
    "            uid_to_inv_refs[article_uid] = get_inv_refs_with_uid(article_uid, wc)\n",
    "            with open(f'uid_to_inv_refs/{file_article_uid}.json', 'w') as f:\n",
    "                json.dump(uid_to_inv_refs[article_uid], f, indent=4)"
   ]
  }
 ],
 "metadata": {
  "kernelspec": {
   "display_name": "Python 3",
   "language": "python",
   "name": "python3"
  },
  "language_info": {
   "codemirror_mode": {
    "name": "ipython",
    "version": 3
   },
   "file_extension": ".py",
   "mimetype": "text/x-python",
   "name": "python",
   "nbconvert_exporter": "python",
   "pygments_lexer": "ipython3",
   "version": "3.8.1"
  }
 },
 "nbformat": 4,
 "nbformat_minor": 4
}
